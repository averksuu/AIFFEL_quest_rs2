{
 "cells": [
  {
   "cell_type": "code",
   "execution_count": 1,
   "id": "3e21497f-e153-4657-b516-4aa099179622",
   "metadata": {},
   "outputs": [],
   "source": [
    "from sklearn.datasets import load_diabetes\n",
    "data = load_diabetes()\n",
    "df_X = data.data\n",
    "df_y = data.target"
   ]
  },
  {
   "cell_type": "code",
   "execution_count": 2,
   "id": "8f8c67d8-ac5d-45b3-8a5d-4dbfc0f2c9ba",
   "metadata": {},
   "outputs": [
    {
     "name": "stdout",
     "output_type": "stream",
     "text": [
      "<class 'numpy.ndarray'> float64\n"
     ]
    }
   ],
   "source": [
    "import numpy as np\n",
    "\n",
    "X = np.array(df_X)\n",
    "\n",
    "print(type(X), X.dtype)"
   ]
  },
  {
   "cell_type": "code",
   "execution_count": 3,
   "id": "251b2fe3-9b56-4d00-bc31-e68d07b8e7aa",
   "metadata": {},
   "outputs": [
    {
     "name": "stdout",
     "output_type": "stream",
     "text": [
      "<class 'numpy.ndarray'> float64\n"
     ]
    }
   ],
   "source": [
    "y = np.array(df_y)\n",
    "\n",
    "print(type(y), y.dtype)"
   ]
  },
  {
   "cell_type": "code",
   "execution_count": 4,
   "id": "adc5e2c0-f55d-4811-8176-a9dc8e803358",
   "metadata": {},
   "outputs": [
    {
     "name": "stdout",
     "output_type": "stream",
     "text": [
      "(353, 10) (353,)\n",
      "(89, 10) (89,)\n"
     ]
    }
   ],
   "source": [
    "from sklearn.model_selection import train_test_split\n",
    "X_train, X_test, y_train, y_test = train_test_split(\n",
    "    X, y, test_size=0.2, random_state=42\n",
    ")\n",
    "\n",
    "print(X_train.shape, y_train.shape)\n",
    "print(X_test.shape, y_test.shape)"
   ]
  },
  {
   "cell_type": "code",
   "execution_count": 5,
   "id": "fdae812c-e29b-48d2-bd38-5b926c37569f",
   "metadata": {},
   "outputs": [
    {
     "name": "stdout",
     "output_type": "stream",
     "text": [
      "10\n"
     ]
    }
   ],
   "source": [
    "W = np.random.rand(X_train.shape[1])\n",
    "b = np.random.rand()\n",
    "\n",
    "print(len(W))"
   ]
  },
  {
   "cell_type": "code",
   "execution_count": 6,
   "id": "a80d99a6-2565-425c-b43c-1ab70d08f3b1",
   "metadata": {},
   "outputs": [],
   "source": [
    "def model(X, W, b):\n",
    "    predictions = 0\n",
    "    for i in range(len(W)):\n",
    "        predictions += X[:, i] * W[i]\n",
    "    predictions += b\n",
    "    return predictions"
   ]
  },
  {
   "cell_type": "code",
   "execution_count": 7,
   "id": "cf7631e2-ed9a-4929-8569-e9ea0b166742",
   "metadata": {},
   "outputs": [],
   "source": [
    "def MSE(a, b):\n",
    "    mse = ((a - b) ** 2).mean()  # 두 값의 차이의 제곱의 평균\n",
    "    return mse\n",
    "    \n",
    "def loss(X, W, b, y):\n",
    "    predictions = model(X, W, b)\n",
    "    L = MSE(predictions, y)\n",
    "    return L"
   ]
  },
  {
   "cell_type": "code",
   "execution_count": 8,
   "id": "72e7ccfa-a43f-4aa4-97e6-adc0f606e250",
   "metadata": {},
   "outputs": [],
   "source": [
    "def gradient(X, W, b, y):\n",
    "    N = len(y)\n",
    "\n",
    "    y_pred = model(X, W, b)\n",
    "\n",
    "    dW = 1/N * 2 * X.T.dot(y_pred - y)\n",
    "\n",
    "    db = 2 * (y_pred - y).mean()\n",
    "    return dW, db"
   ]
  },
  {
   "cell_type": "code",
   "execution_count": 9,
   "id": "ad13b4ba-6cd3-4866-8bc2-f9eaa3dfa2ee",
   "metadata": {},
   "outputs": [],
   "source": [
    "LEARNING_RATE = 0.001"
   ]
  },
  {
   "cell_type": "code",
   "execution_count": 10,
   "id": "6f6f192c-c834-4616-98bf-a88b04e530e8",
   "metadata": {},
   "outputs": [
    {
     "name": "stdout",
     "output_type": "stream",
     "text": [
      "Iteration 10000 : Loss 5382.0118\n",
      "Iteration 20000 : Loss 4879.4688\n",
      "Iteration 30000 : Loss 4505.6833\n",
      "Iteration 40000 : Loss 4223.9779\n",
      "Iteration 50000 : Loss 4008.5418\n",
      "Iteration 60000 : Loss 3841.1663\n",
      "Iteration 70000 : Loss 3708.9668\n",
      "Iteration 80000 : Loss 3602.7906\n",
      "Iteration 90000 : Loss 3516.1054\n",
      "Iteration 100000 : Loss 3444.2214\n",
      "Iteration 110000 : Loss 3383.7477\n",
      "Iteration 120000 : Loss 3332.2118\n",
      "Iteration 130000 : Loss 3287.7925\n",
      "Iteration 140000 : Loss 3249.1328\n",
      "Iteration 150000 : Loss 3215.2081\n",
      "Iteration 160000 : Loss 3185.2340\n",
      "Iteration 170000 : Loss 3158.6001\n",
      "Iteration 180000 : Loss 3134.8241\n",
      "Iteration 190000 : Loss 3113.5186\n",
      "19.4 s ± 0 ns per loop (mean ± std. dev. of 1 run, 1 loop each)\n"
     ]
    }
   ],
   "source": [
    "%%timeit -n 1 -r 1\n",
    "global W, b\n",
    "\n",
    "losses = []\n",
    "\n",
    "for i in range(1, 200000):\n",
    "    dW, db = gradient(X_train, W, b, y_train)\n",
    "    W -= LEARNING_RATE * dW\n",
    "    b -= LEARNING_RATE * db\n",
    "    L = loss(X_train, W, b, y_train)\n",
    "    losses.append(L)\n",
    "    if i % 10000 == 0:\n",
    "        print('Iteration %d : Loss %0.4f' % (i, L))"
   ]
  },
  {
   "cell_type": "code",
   "execution_count": 11,
   "id": "37d873c1-0acd-46bb-81ed-7852f5a40820",
   "metadata": {},
   "outputs": [
    {
     "data": {
      "text/plain": [
       "np.float64(2907.4067635363895)"
      ]
     },
     "execution_count": 11,
     "metadata": {},
     "output_type": "execute_result"
    }
   ],
   "source": [
    "prediction = model(X_test, W, b)\n",
    "mse = loss(X_test, W, b, y_test)\n",
    "mse"
   ]
  },
  {
   "cell_type": "code",
   "execution_count": null,
   "id": "08e46b29-c328-40f7-9806-6736247a5dca",
   "metadata": {},
   "outputs": [],
   "source": []
  }
 ],
 "metadata": {
  "kernelspec": {
   "display_name": "Python 3 (ipykernel)",
   "language": "python",
   "name": "python3"
  },
  "language_info": {
   "codemirror_mode": {
    "name": "ipython",
    "version": 3
   },
   "file_extension": ".py",
   "mimetype": "text/x-python",
   "name": "python",
   "nbconvert_exporter": "python",
   "pygments_lexer": "ipython3",
   "version": "3.12.11"
  }
 },
 "nbformat": 4,
 "nbformat_minor": 5
}
